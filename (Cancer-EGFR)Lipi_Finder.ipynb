{
  "nbformat": 4,
  "nbformat_minor": 0,
  "metadata": {
    "colab": {
      "provenance": [],
      "include_colab_link": true
    },
    "kernelspec": {
      "name": "python3",
      "display_name": "Python 3"
    },
    "language_info": {
      "name": "python"
    }
  },
  "cells": [
    {
      "cell_type": "markdown",
      "metadata": {
        "id": "view-in-github",
        "colab_type": "text"
      },
      "source": [
        "<a href=\"https://colab.research.google.com/github/Farhanahoque251/Drug-Discovery-with-Python/blob/main/(Cancer-EGFR)Lipi_Finder.ipynb\" target=\"_parent\"><img src=\"https://colab.research.google.com/assets/colab-badge.svg\" alt=\"Open In Colab\"/></a>"
      ]
    },
    {
      "cell_type": "code",
      "execution_count": null,
      "metadata": {
        "colab": {
          "base_uri": "https://localhost:8080/"
        },
        "id": "iC7m2BcmJNdr",
        "outputId": "b44f3e86-763b-4522-9b47-2f1870a84fc8"
      },
      "outputs": [
        {
          "output_type": "stream",
          "name": "stdout",
          "text": [
            "Collecting chembl_webresource_client\n",
            "  Downloading chembl_webresource_client-0.10.8-py3-none-any.whl (55 kB)\n",
            "\u001b[2K     \u001b[90m━━━━━━━━━━━━━━━━━━━━━━━━━━━━━━━━━━━━━━━━\u001b[0m \u001b[32m55.2/55.2 kB\u001b[0m \u001b[31m1.3 MB/s\u001b[0m eta \u001b[36m0:00:00\u001b[0m\n",
            "\u001b[?25hCollecting rdkit\n",
            "  Downloading rdkit-2023.9.2-cp310-cp310-manylinux_2_17_x86_64.manylinux2014_x86_64.whl (30.5 MB)\n",
            "\u001b[2K     \u001b[90m━━━━━━━━━━━━━━━━━━━━━━━━━━━━━━━━━━━━━━━━\u001b[0m \u001b[32m30.5/30.5 MB\u001b[0m \u001b[31m36.9 MB/s\u001b[0m eta \u001b[36m0:00:00\u001b[0m\n",
            "\u001b[?25hRequirement already satisfied: urllib3 in /usr/local/lib/python3.10/dist-packages (from chembl_webresource_client) (2.0.7)\n",
            "Requirement already satisfied: requests>=2.18.4 in /usr/local/lib/python3.10/dist-packages (from chembl_webresource_client) (2.31.0)\n",
            "Collecting requests-cache~=0.7.0 (from chembl_webresource_client)\n",
            "  Downloading requests_cache-0.7.5-py3-none-any.whl (39 kB)\n",
            "Requirement already satisfied: easydict in /usr/local/lib/python3.10/dist-packages (from chembl_webresource_client) (1.11)\n",
            "Requirement already satisfied: numpy in /usr/local/lib/python3.10/dist-packages (from rdkit) (1.23.5)\n",
            "Requirement already satisfied: Pillow in /usr/local/lib/python3.10/dist-packages (from rdkit) (9.4.0)\n",
            "Requirement already satisfied: charset-normalizer<4,>=2 in /usr/local/lib/python3.10/dist-packages (from requests>=2.18.4->chembl_webresource_client) (3.3.2)\n",
            "Requirement already satisfied: idna<4,>=2.5 in /usr/local/lib/python3.10/dist-packages (from requests>=2.18.4->chembl_webresource_client) (3.6)\n",
            "Requirement already satisfied: certifi>=2017.4.17 in /usr/local/lib/python3.10/dist-packages (from requests>=2.18.4->chembl_webresource_client) (2023.11.17)\n",
            "Collecting attrs<22.0,>=21.2 (from requests-cache~=0.7.0->chembl_webresource_client)\n",
            "  Downloading attrs-21.4.0-py2.py3-none-any.whl (60 kB)\n",
            "\u001b[2K     \u001b[90m━━━━━━━━━━━━━━━━━━━━━━━━━━━━━━━━━━━━━━━━\u001b[0m \u001b[32m60.6/60.6 kB\u001b[0m \u001b[31m7.7 MB/s\u001b[0m eta \u001b[36m0:00:00\u001b[0m\n",
            "\u001b[?25hRequirement already satisfied: itsdangerous>=2.0.1 in /usr/local/lib/python3.10/dist-packages (from requests-cache~=0.7.0->chembl_webresource_client) (2.1.2)\n",
            "Requirement already satisfied: pyyaml>=5.4 in /usr/local/lib/python3.10/dist-packages (from requests-cache~=0.7.0->chembl_webresource_client) (6.0.1)\n",
            "Collecting url-normalize<2.0,>=1.4 (from requests-cache~=0.7.0->chembl_webresource_client)\n",
            "  Downloading url_normalize-1.4.3-py2.py3-none-any.whl (6.8 kB)\n",
            "Requirement already satisfied: six in /usr/local/lib/python3.10/dist-packages (from url-normalize<2.0,>=1.4->requests-cache~=0.7.0->chembl_webresource_client) (1.16.0)\n",
            "Installing collected packages: url-normalize, rdkit, attrs, requests-cache, chembl_webresource_client\n",
            "  Attempting uninstall: attrs\n",
            "    Found existing installation: attrs 23.1.0\n",
            "    Uninstalling attrs-23.1.0:\n",
            "      Successfully uninstalled attrs-23.1.0\n",
            "\u001b[31mERROR: pip's dependency resolver does not currently take into account all the packages that are installed. This behaviour is the source of the following dependency conflicts.\n",
            "lida 0.0.10 requires fastapi, which is not installed.\n",
            "lida 0.0.10 requires kaleido, which is not installed.\n",
            "lida 0.0.10 requires python-multipart, which is not installed.\n",
            "lida 0.0.10 requires uvicorn, which is not installed.\n",
            "jsonschema 4.19.2 requires attrs>=22.2.0, but you have attrs 21.4.0 which is incompatible.\n",
            "referencing 0.32.0 requires attrs>=22.2.0, but you have attrs 21.4.0 which is incompatible.\u001b[0m\u001b[31m\n",
            "\u001b[0mSuccessfully installed attrs-21.4.0 chembl_webresource_client-0.10.8 rdkit-2023.9.2 requests-cache-0.7.5 url-normalize-1.4.3\n"
          ]
        }
      ],
      "source": [
        "pip install chembl_webresource_client rdkit\n"
      ]
    },
    {
      "cell_type": "code",
      "source": [
        "from chembl_webresource_client.new_client import new_client\n",
        "from rdkit import Chem\n",
        "from rdkit.Chem import Lipinski\n",
        "from rdkit.Chem import Descriptors\n",
        "# Search for compounds related to coronavirus in ChEMBL\n",
        "target_query = new_client.target\n",
        "target = target_query.filter(target_synonym__icontains='EGFR').only('target_chembl_id')[4]"
      ],
      "metadata": {
        "id": "1fcaeb9XaeSL"
      },
      "execution_count": null,
      "outputs": []
    },
    {
      "cell_type": "code",
      "source": [
        "\n",
        "\n",
        "# Get bioactivities for the target\n",
        "activity = new_client.activity\n",
        "res = activity.filter(target_chembl_id=target['target_chembl_id'], pchembl_value__isnull=False).filter(standard_type=\"IC50\")\n",
        "\n",
        "# Collect unique compound IDs\n",
        "compounds = {x['molecule_chembl_id'] for x in res}\n",
        "\n",
        "# Fetch molecule details and apply Lipinski's Rule of Five\n",
        "molecules = []\n",
        "for compound_id in compounds:\n",
        "    mol_data = new_client.molecule.filter(molecule_chembl_id=compound_id).only('molecule_structures')\n",
        "    smiles = mol_data[0]['molecule_structures']['canonical_smiles']\n",
        "    mol = Chem.MolFromSmiles(smiles)\n",
        "    if mol:\n",
        "        mw = Descriptors.MolWt(mol)  # Updated line\n",
        "        hbd = Lipinski.NumHDonors(mol)\n",
        "        hba = Lipinski.NumHAcceptors(mol)\n",
        "        clogp = Chem.Crippen.MolLogP(mol)\n",
        "        if mw <= 500 and hbd <= 5 and hba <= 10 and clogp <= 5:\n",
        "            molecules.append({'SMILES': smiles, 'MolecularWeight': mw, 'HBD': hbd, 'HBA': hba, 'CLogP': clogp})\n",
        "\n",
        "# Print or process the filtered molecules\n",
        "for molecule in molecules:\n",
        "    print(molecule)"
      ],
      "metadata": {
        "id": "wiv1wX81J3Gz"
      },
      "execution_count": null,
      "outputs": []
    },
    {
      "cell_type": "code",
      "source": [
        "from rdkit import Chem\n",
        "from rdkit.Chem import Draw\n",
        "\n",
        "# Assuming 'molecules' contains the filtered molecules from earlier processing\n",
        "# Let's create RDKit Mol objects from SMILES\n",
        "mols = [Chem.MolFromSmiles(mol['SMILES']) for mol in molecules]\n",
        "\n",
        "# Generate images of the molecules\n",
        "images_2D = [Draw.MolToImage(mol) for mol in mols]\n",
        "\n",
        "# Show the images\n",
        "for img in images_2D:\n",
        "    display(img)"
      ],
      "metadata": {
        "id": "CaihjfUbNZfE"
      },
      "execution_count": null,
      "outputs": []
    },
    {
      "cell_type": "code",
      "source": [
        "# Count of molecules meeting criteria\n",
        "num_molecules = len(molecules)\n",
        "print(f\"Number of molecules meeting Lipinski's Rule of Five criteria: {num_molecules}\")\n",
        "\n",
        "# To get the number of rows and columns\n",
        "num_rows = num_molecules\n",
        "num_columns = len(molecules[0])  # Assuming all molecules have the same columns\n",
        "print(f\"Number of rows: {num_rows}, Number of columns: {num_columns}\")\n",
        "\n",
        "# To display the molecules data\n",
        "for molecule in molecules:\n",
        "    print(molecule)"
      ],
      "metadata": {
        "colab": {
          "base_uri": "https://localhost:8080/",
          "height": 262
        },
        "id": "Nz7o6mdpNeOc",
        "outputId": "38628cd7-b6bb-4eff-b9a9-1c322987c0cd"
      },
      "execution_count": null,
      "outputs": [
        {
          "output_type": "stream",
          "name": "stdout",
          "text": [
            "Number of molecules meeting Lipinski's Rule of Five criteria: 0\n"
          ]
        },
        {
          "output_type": "error",
          "ename": "IndexError",
          "evalue": "ignored",
          "traceback": [
            "\u001b[0;31m---------------------------------------------------------------------------\u001b[0m",
            "\u001b[0;31mIndexError\u001b[0m                                Traceback (most recent call last)",
            "\u001b[0;32m<ipython-input-16-50690ec73e61>\u001b[0m in \u001b[0;36m<cell line: 7>\u001b[0;34m()\u001b[0m\n\u001b[1;32m      5\u001b[0m \u001b[0;31m# To get the number of rows and columns\u001b[0m\u001b[0;34m\u001b[0m\u001b[0;34m\u001b[0m\u001b[0m\n\u001b[1;32m      6\u001b[0m \u001b[0mnum_rows\u001b[0m \u001b[0;34m=\u001b[0m \u001b[0mnum_molecules\u001b[0m\u001b[0;34m\u001b[0m\u001b[0;34m\u001b[0m\u001b[0m\n\u001b[0;32m----> 7\u001b[0;31m \u001b[0mnum_columns\u001b[0m \u001b[0;34m=\u001b[0m \u001b[0mlen\u001b[0m\u001b[0;34m(\u001b[0m\u001b[0mmolecules\u001b[0m\u001b[0;34m[\u001b[0m\u001b[0;36m0\u001b[0m\u001b[0;34m]\u001b[0m\u001b[0;34m)\u001b[0m  \u001b[0;31m# Assuming all molecules have the same columns\u001b[0m\u001b[0;34m\u001b[0m\u001b[0;34m\u001b[0m\u001b[0m\n\u001b[0m\u001b[1;32m      8\u001b[0m \u001b[0mprint\u001b[0m\u001b[0;34m(\u001b[0m\u001b[0;34mf\"Number of rows: {num_rows}, Number of columns: {num_columns}\"\u001b[0m\u001b[0;34m)\u001b[0m\u001b[0;34m\u001b[0m\u001b[0;34m\u001b[0m\u001b[0m\n\u001b[1;32m      9\u001b[0m \u001b[0;34m\u001b[0m\u001b[0m\n",
            "\u001b[0;31mIndexError\u001b[0m: list index out of range"
          ]
        }
      ]
    },
    {
      "cell_type": "code",
      "source": [
        "import pandas as pd\n",
        "\n",
        "# Assuming 'molecules' contains the filtered data\n",
        "data = {\n",
        "    'SMILES': [mol['SMILES'] for mol in molecules],\n",
        "    'MolecularWeight': [mol['MolecularWeight'] for mol in molecules],\n",
        "    'HBD': [mol['HBD'] for mol in molecules],\n",
        "    'HBA': [mol['HBA'] for mol in molecules],\n",
        "    'CLogP': [mol['CLogP'] for mol in molecules]\n",
        "}\n",
        "\n",
        "# Creating a DataFrame\n",
        "df = pd.DataFrame(data)\n",
        "\n",
        "# Display the DataFrame\n",
        "print(df)"
      ],
      "metadata": {
        "colab": {
          "base_uri": "https://localhost:8080/"
        },
        "id": "lEF_ymq0Nm58",
        "outputId": "7c8a6c41-761c-404e-e93c-23d00a94ab14"
      },
      "execution_count": null,
      "outputs": [
        {
          "output_type": "stream",
          "name": "stdout",
          "text": [
            "                                               SMILES  MolecularWeight  HBD  \\\n",
            "0                 Brc1cccc(Nc2ncnc3cc4[nH]cnc4cc23)c1          340.184    2   \n",
            "1   Cn1cc(-c2cc(C(=O)/N=c3\\[nH]c4ccccc4n3CC(C)(C)O...          390.447    2   \n",
            "2                      Nc1ccc2ncnc(Nc3cccc(Br)c3)c2c1          315.174    2   \n",
            "3   C=CC(=O)Nc1cc(Nc2nccc(-c3cn(C)c4ccccc34)n2)c(O...          499.619    2   \n",
            "4            O=C(NCc1ccccc1)c1cc(NCc2cc(O)ccc2O)ccc1O          364.401    5   \n",
            "5        O=C(NCCc1ccc(F)cc1)c1cc(NCc2cc(O)ccc2O)ccc1O          396.418    5   \n",
            "6             COc1cc(OC)c2c(=O)c(-c3cccc(Cl)c3)coc2c1          316.740    0   \n",
            "7           O=C(NCCc1ccccn1)c1cc(NCc2cc(O)ccc2O)ccc1O          379.416    5   \n",
            "8            CN(CO)/N=N/c1ccc2ncnc(Nc3cccc(Br)c3)c2c1          387.241    2   \n",
            "9         CC(=O)N(C)/N=N/c1ccc2ncnc(Nc3cccc(C)c3)c2c1          334.383    1   \n",
            "10  CC(C)(O)Cn1/c(=N/C(=O)c2ccnc(-c3cccnc3)c2)[nH]...          387.443    2   \n",
            "11  Cn1ncc2c1OCCCCCN1/C(=N/C(=O)c3cc(F)nc-2c3)Nc2c...          420.448    1   \n",
            "12               Oc1cc(O)c2c(O)c(-c3cccc(Cl)c3)cnc2c1          287.702    3   \n",
            "13  Cc1cc2cc(n1)-c1cnn(C)c1OCCC[C@@H](C)CN1/C(=N/C...          430.512    1   \n",
            "14  COc1ccc(Cc2nc(NC3=NC(=O)N(C)C3=O)n(C)c2Cc2ccc(...          433.468    2   \n",
            "15  COc1ccncc1-c1cc(C(=O)/N=c2\\[nH]c3ccccc3n2CC(C)...          417.469    2   \n",
            "16               C/N=N/Nc1ccc2ncnc(Nc3cccc(Br)c3)c2c1          357.215    2   \n",
            "17                C/N=N/Nc1ccc2ncnc(Nc3cccc(C)c3)c2c1          292.346    2   \n",
            "18              COc1cc(O)c2c(O)c(-c3cccc(Cl)c3)cnc2c1          301.729    2   \n",
            "19  COc1ccc(Cc2cn(Cc3ccc(OC)cc3)c(NC3=NC(=O)N(C)C3...          433.468    1   \n",
            "20              CCCCCCNC(=O)c1cc(NCc2cc(O)ccc2O)ccc1O          358.438    5   \n",
            "21             COc1cc(O)c2c(=O)c(-c3cccc(Cl)c3)coc2c1          302.713    1   \n",
            "22      O=C(NC1CCc2ccccc2C1)c1cc(NCc2cc(O)ccc2O)ccc1O          404.466    5   \n",
            "23          O=C(NCCc1ccccc1)c1cc(NCc2cc(O)ccc2O)ccc1O          378.428    5   \n",
            "24          O=C(NCCCc1ccccc1)c1ccc(NCc2cc(O)ccc2O)cc1          376.456    4   \n",
            "25              O=c1c(-c2cccc(Cl)c2)coc2cc(O)cc(O)c12          288.686    2   \n",
            "26  COc1ccc(Cc2cn(Cc3ccc(O)cc3)c(NC3=NC(=O)N(C)C3=...          419.441    2   \n",
            "27   COC(=O)Cn1cc(-c2cccc(Cl)c2)c(=O)c2c(O)cc(OC)cc21          373.792    1   \n",
            "28          COc1cc(O)c2c(=O)c(-c3cccc(Cl)c3)cn(C)c2c1          315.756    1   \n",
            "29  Cc1cc2cc(n1)-c1cnn(C)c1OCCCCCN1/C(=N/C2=O)Nc2c...          416.485    1   \n",
            "30      O=C(NCCc1ccc(Cl)cc1)c1cc(NCc2cc(O)ccc2O)ccc1O          412.873    5   \n",
            "31     CC(=O)OCN(C)/N=N/c1ccc2ncnc(Nc3cccc(Br)c3)c2c1          429.278    1   \n",
            "32      O=C(NCCc1ccc(Br)cc1)c1cc(NCc2cc(O)ccc2O)ccc1O          457.324    5   \n",
            "33         O=C(NCCCc1ccccc1)c1cc(NCc2cc(O)ccc2O)ccc1O          392.455    5   \n",
            "34      O=C1/N=C2\\Nc3ccccc3N2CCCCCOc2ccccc2-c2cc1ccn2          398.466    1   \n",
            "\n",
            "    HBA    CLogP  \n",
            "0     4  4.01220  \n",
            "1     6  2.27690  \n",
            "2     4  3.71810  \n",
            "3     8  4.50980  \n",
            "4     5  3.34550  \n",
            "5     5  3.52710  \n",
            "6     4  4.13060  \n",
            "7     6  2.78300  \n",
            "8     6  4.01620  \n",
            "9     6  4.15882  \n",
            "10    5  2.93840  \n",
            "11    7  3.61220  \n",
            "12    4  3.67200  \n",
            "13    7  4.02752  \n",
            "14    7  2.71830  \n",
            "15    6  2.94700  \n",
            "16    5  4.54480  \n",
            "17    5  4.09072  \n",
            "18    4  3.97500  \n",
            "19    7  2.94180  \n",
            "20    5  3.72560  \n",
            "21    4  3.82760  \n",
            "22    5  3.70280  \n",
            "23    5  3.38800  \n",
            "24    4  4.07250  \n",
            "25    4  3.52460  \n",
            "26    7  2.63880  \n",
            "27    6  3.20910  \n",
            "28    4  3.57310  \n",
            "29    7  3.78152  \n",
            "30    5  4.04140  \n",
            "31    7  4.58700  \n",
            "32    5  4.15050  \n",
            "33    5  3.77810  \n",
            "34    5  4.73960  \n"
          ]
        }
      ]
    },
    {
      "cell_type": "code",
      "source": [
        "!pip install py3Dmol"
      ],
      "metadata": {
        "colab": {
          "base_uri": "https://localhost:8080/"
        },
        "id": "FPfdowxERelj",
        "outputId": "9dbe8646-c836-400e-f8c6-67b08e3ca865"
      },
      "execution_count": null,
      "outputs": [
        {
          "output_type": "stream",
          "name": "stdout",
          "text": [
            "Collecting py3Dmol\n",
            "  Downloading py3Dmol-2.0.4-py2.py3-none-any.whl (12 kB)\n",
            "Installing collected packages: py3Dmol\n",
            "Successfully installed py3Dmol-2.0.4\n"
          ]
        }
      ]
    },
    {
      "cell_type": "code",
      "source": [
        "from chembl_webresource_client.new_client import new_client\n",
        "from rdkit import Chem\n",
        "from rdkit.Chem import Lipinski\n",
        "from rdkit.Chem import AllChem\n",
        "\n",
        "# Search for compounds related to cancer in ChEMBL\n",
        "target_query = new_client.target\n",
        "target = target_query.filter(target_synonym__icontains='cancer').only('target_chembl_id')[0]\n",
        "\n",
        "# Get bioactivities for the target\n",
        "activity = new_client.activity\n",
        "res = activity.filter(target_chembl_id=target['target_chembl_id'], pchembl_value__isnull=False).filter(standard_type=\"IC50\")\n",
        "\n",
        "# Collect unique compound IDs\n",
        "compounds = {x['molecule_chembl_id'] for x in res}\n",
        "\n",
        "# Fetch molecule details and apply Lipinski's Rule of Five\n",
        "molecules = []\n",
        "for compound_id in compounds:\n",
        "    try:\n",
        "        mol_data = new_client.molecule.filter(molecule_chembl_id=compound_id).only('molecule_structures')\n",
        "        smiles = mol_data[0]['molecule_structures']['canonical_smiles']\n",
        "        mol = Chem.MolFromSmiles(smiles)\n",
        "        if mol:\n",
        "            mw = Chem.Descriptors.MolWt(mol)\n",
        "            hbd = Lipinski.NumHDonors(mol)\n",
        "            hba = Lipinski.NumHAcceptors(mol)\n",
        "            clogp = Chem.Crippen.MolLogP(mol)\n",
        "            if mw <= 500 and hbd <= 5 and hba <= 10 and clogp <= 5:\n",
        "                molecules.append({'SMILES': smiles, 'MolecularWeight': mw, 'HBD': hbd, 'HBA': hba, 'CLogP': clogp})\n",
        "\n",
        "                # Fetch bioactivity data for the compound\n",
        "                compound_activities = activity.filter(molecule_chembl_id=compound_id)\n",
        "\n",
        "                # Display bioactivity data for the compound\n",
        "                if compound_activities:\n",
        "                    print(f\"Compound {compound_id} has bioactivities:\")\n",
        "                    for act in compound_activities:\n",
        "                        print(f\"  - Activity Type: {act['standard_type']}, Value: {act['standard_value']} {act['standard_units']}\")\n",
        "                else:\n",
        "                    print(f\"No bioactivity data found for Compound {compound_id}\")\n",
        "\n",
        "                # Generate 3D conformers and visualize\n",
        "                mol_3d = Chem.AddHs(mol)\n",
        "                AllChem.EmbedMolecule(mol_3d, AllChem.ETKDG())\n",
        "                AllChem.UFFOptimizeMolecule(mol_3d)\n",
        "                pdb_block = Chem.MolToPDBBlock(mol_3d)\n",
        "                # Visualize using Py3Dmol (replace this with your visualization code)\n",
        "                # viewer = py3Dmol.view(width=300, height=300)\n",
        "                # viewer.addModel(pdb_block, 'pdb')\n",
        "                # viewer.setStyle({'stick': {}})\n",
        "                # viewer.zoomTo()\n",
        "                # viewer.show()\n",
        "\n",
        "    except Exception as e:\n",
        "        print(f\"Error processing Compound {compound_id}: {str(e)}\")"
      ],
      "metadata": {
        "id": "NJsm7NcnRWBL"
      },
      "execution_count": null,
      "outputs": []
    }
  ]
}